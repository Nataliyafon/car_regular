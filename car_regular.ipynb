{
 "cells": [
  {
   "cell_type": "markdown",
   "id": "a8cd86a7",
   "metadata": {},
   "source": [
    "# Прогнозирование стоимости автомобилей Ford по VIN-коду"
   ]
  },
  {
   "cell_type": "markdown",
   "id": "1fcb8278",
   "metadata": {},
   "source": [
    "Нам предоставлены данные по автомобилям `Ford`, произведённым в Северной Америке, содержащие информацию о их VIN-кодах и стоимости.  \n",
    "\n",
    "__Цель__: с помощью регулярных выражений распарсить VIN-коды и построить модель, предсказывающую стоимость автомобилей на основании полученных данных\n",
    "\n",
    "Нам известно, что VIN-код состоит из 17 символов (последние три знака – всегда цифры), включающих заглавные буквы латинского алфавита (за исключением __I__, __O__, __Q__) и цифры от 0 до 9, где:\n",
    "- 1-3 - производитель;\n",
    "- 4 - ремни безопасности для пассажирских, тормоза и грузоподъёмность у траков;\n",
    "- 5-7 - модель;\n",
    "- 8 - двигатель;\n",
    "- 9 - контрольный знак;\n",
    "- 10 - год (в кодировке года не используются буквы __U__ и __Z__ );\n",
    "- 11 - завод-производитель;\n",
    "- 12-17 - серийный номер"
   ]
  },
  {
   "cell_type": "markdown",
   "id": "887f0e2c",
   "metadata": {
    "toc": true
   },
   "source": [
    "<h1>Этапы исследования:<span class=\"tocSkip\"></span></h1>\n",
    "<div class=\"toc\"><ul class=\"toc-item\"><li><span><a href=\"#Загрузка-данных\" data-toc-modified-id=\"Загрузка-данных-1\">Загрузка данных</a></span></li><li><span><a href=\"#Предобработка\" data-toc-modified-id=\"Предобработка-2\">Предобработка</a></span></li><li><span><a href=\"#Построение-моделей\" data-toc-modified-id=\"Построение-моделей-3\">Построение моделей</a></span><ul class=\"toc-item\"><li><span><a href=\"#RandomForestRegressor\" data-toc-modified-id=\"RandomForestRegressor-3.1\">RandomForestRegressor</a></span><ul class=\"toc-item\"><li><span><a href=\"#Обучение\" data-toc-modified-id=\"Обучение-3.1.1\">Обучение</a></span></li><li><span><a href=\"#Анализ-важности-фичей\" data-toc-modified-id=\"Анализ-важности-фичей-3.1.2\">Анализ важности фичей</a></span></li></ul></li><li><span><a href=\"#LGBMRegressor\" data-toc-modified-id=\"LGBMRegressor-3.2\">LGBMRegressor</a></span><ul class=\"toc-item\"><li><span><a href=\"#Обучение\" data-toc-modified-id=\"Обучение-3.2.1\">Обучение</a></span></li><li><span><a href=\"#Анализ-важности-фичей\" data-toc-modified-id=\"Анализ-важности-фичей-3.2.2\">Анализ важности фичей</a></span></li></ul></li><li><span><a href=\"#DummyRegressor\" data-toc-modified-id=\"DummyRegressor-3.3\">DummyRegressor</a></span></li></ul></li><li><span><a href=\"#Проверка-лучшей-модели-на-тесте\" data-toc-modified-id=\"Проверка-лучшей-модели-на-тесте-4\">Проверка лучшей модели на тесте</a></span></li><li><span><a href=\"#Вывод\" data-toc-modified-id=\"Вывод-5\">Вывод</a></span></li></ul></div>"
   ]
  },
  {
   "cell_type": "markdown",
   "id": "7974c880",
   "metadata": {},
   "source": [
    "## Загрузка данных"
   ]
  },
  {
   "cell_type": "code",
   "execution_count": 1,
   "id": "7836b83e",
   "metadata": {
    "ExecuteTime": {
     "end_time": "2024-04-24T01:33:55.452299Z",
     "start_time": "2024-04-24T01:33:55.439338Z"
    }
   },
   "outputs": [],
   "source": [
    "#pip install phik"
   ]
  },
  {
   "cell_type": "code",
   "execution_count": 2,
   "id": "9afc3c4a",
   "metadata": {
    "ExecuteTime": {
     "end_time": "2024-04-24T01:33:59.440804Z",
     "start_time": "2024-04-24T01:33:55.454298Z"
    }
   },
   "outputs": [],
   "source": [
    "import re\n",
    "import pandas as pd\n",
    "import matplotlib.pyplot as plt\n",
    "import seaborn as sns\n",
    "import lightgbm as lgb\n",
    "from sklearn.ensemble import RandomForestRegressor\n",
    "from sklearn.model_selection import (\n",
    "    RandomizedSearchCV,\n",
    "    train_test_split\n",
    ")\n",
    "from lightgbm import LGBMRegressor\n",
    "from sklearn.preprocessing import OrdinalEncoder\n",
    "from phik.report import plot_correlation_matrix\n",
    "from sklearn.pipeline import Pipeline\n",
    "from sklearn.inspection import permutation_importance\n",
    "from sklearn.dummy import DummyRegressor\n",
    "from sklearn.model_selection import cross_validate\n",
    "from sklearn.metrics import (\n",
    "    mean_squared_error, \n",
    "    mean_absolute_percentage_error\n",
    ")\n",
    "\n",
    "RANDOM_STATE = 12345\n",
    "sns.set_style('darkgrid')"
   ]
  },
  {
   "cell_type": "code",
   "execution_count": 3,
   "id": "b66da16f",
   "metadata": {
    "ExecuteTime": {
     "end_time": "2024-04-24T01:33:59.456097Z",
     "start_time": "2024-04-24T01:33:59.443094Z"
    }
   },
   "outputs": [],
   "source": [
    "with open('car.txt', 'r', encoding='utf-8') as file:\n",
    "    contents = file.read()"
   ]
  },
  {
   "cell_type": "code",
   "execution_count": 4,
   "id": "0c6f8bfc",
   "metadata": {
    "ExecuteTime": {
     "end_time": "2024-04-24T01:33:59.472135Z",
     "start_time": "2024-04-24T01:33:59.460099Z"
    }
   },
   "outputs": [
    {
     "data": {
      "text/plain": [
       "'[2FMDK3JC4BBA41556:12500]мой[3FA6P0H75ER208976:14500]дядя [3FAHP08Z17R268380:1300][1FMCU0GX3DUC59421:15200]самых [1FAHP2E89DG119368:11600] верных[1FM5K8D82DGA16143:26400][1FTFW1CFXCFC23663:14000][2FMDK3JC6CBA90002:19500][1FTFW1CT8DKD06233:24400]'"
      ]
     },
     "execution_count": 4,
     "metadata": {},
     "output_type": "execute_result"
    }
   ],
   "source": [
    "contents[:245]"
   ]
  },
  {
   "cell_type": "code",
   "execution_count": 5,
   "id": "4a19a111",
   "metadata": {
    "ExecuteTime": {
     "end_time": "2024-04-24T01:33:59.488158Z",
     "start_time": "2024-04-24T01:33:59.474143Z"
    }
   },
   "outputs": [
    {
     "data": {
      "text/plain": [
       "['A',\n",
       " 'B',\n",
       " 'C',\n",
       " 'D',\n",
       " 'E',\n",
       " 'F',\n",
       " 'G',\n",
       " 'H',\n",
       " 'J',\n",
       " 'K',\n",
       " 'L',\n",
       " 'M',\n",
       " 'N',\n",
       " 'P',\n",
       " 'R',\n",
       " 'S',\n",
       " 'T',\n",
       " 'U',\n",
       " 'V',\n",
       " 'W',\n",
       " 'X',\n",
       " 'Y',\n",
       " 'Z']"
      ]
     },
     "execution_count": 5,
     "metadata": {},
     "output_type": "execute_result"
    }
   ],
   "source": [
    "valid_letter = [chr(x) for x in range(ord('A'), ord('Z')+1) if chr(x) not in ['I', 'O', 'Q']]\n",
    "valid_letter"
   ]
  },
  {
   "cell_type": "code",
   "execution_count": 6,
   "id": "4f849d06",
   "metadata": {
    "ExecuteTime": {
     "end_time": "2024-04-24T01:33:59.504039Z",
     "start_time": "2024-04-24T01:33:59.490382Z"
    }
   },
   "outputs": [
    {
     "data": {
      "text/plain": [
       "['\\\\d']"
      ]
     },
     "execution_count": 6,
     "metadata": {},
     "output_type": "execute_result"
    }
   ],
   "source": [
    "num = [r'\\d']\n",
    "num"
   ]
  },
  {
   "cell_type": "code",
   "execution_count": 7,
   "id": "e381500c",
   "metadata": {
    "ExecuteTime": {
     "end_time": "2024-04-24T01:33:59.519272Z",
     "start_time": "2024-04-24T01:33:59.511280Z"
    }
   },
   "outputs": [
    {
     "data": {
      "text/plain": [
       "'ABCDEFGHJKLMNPRSTUVWXYZ\\\\d'"
      ]
     },
     "execution_count": 7,
     "metadata": {},
     "output_type": "execute_result"
    }
   ],
   "source": [
    "valid_chars = ''.join(valid_letter + num)\n",
    "valid_chars"
   ]
  },
  {
   "cell_type": "code",
   "execution_count": 8,
   "id": "a027d47c",
   "metadata": {
    "ExecuteTime": {
     "end_time": "2024-04-24T01:33:59.535394Z",
     "start_time": "2024-04-24T01:33:59.521369Z"
    }
   },
   "outputs": [],
   "source": [
    "wmi = f'(?P<wmi>[{valid_chars}]{{3}})' # 1-3\n",
    "brake = f'(?P<brake>[{valid_chars}])' # 4\n",
    "model = f'(?P<model>[{valid_chars}]{{3}})' # 5-7\n",
    "engine = f'(?P<engine>[{valid_chars}])' # 8\n",
    "check = f'(?P<check>[{valid_chars}])' # 9\n",
    "year = f'(?P<year>[{valid_chars.replace(\"U\", \"\").replace(\"Z\", \"\")}])' # 10\n",
    "plant = f'(?P<plant>[{valid_chars}])' # 11\n",
    "vis = f'(?P<vis>[{valid_chars}]{{3}}\\\\d{{3}})' # 12-17\n",
    "price = f':(?P<price>\\d+)' # цена"
   ]
  },
  {
   "cell_type": "code",
   "execution_count": 9,
   "id": "3a72713f",
   "metadata": {
    "ExecuteTime": {
     "end_time": "2024-04-24T01:33:59.773754Z",
     "start_time": "2024-04-24T01:33:59.540367Z"
    }
   },
   "outputs": [],
   "source": [
    "vin_full_and_price = f'\\\\b{wmi}{brake}{model}{engine}{check}{year}{plant}{vis}{price}\\\\b'\n",
    "vin_re = re.compile(vin_full_and_price)\n",
    "data = pd.DataFrame([x.groupdict() for x in vin_re.finditer(contents)])"
   ]
  },
  {
   "cell_type": "code",
   "execution_count": 10,
   "id": "58bc7586",
   "metadata": {
    "ExecuteTime": {
     "end_time": "2024-04-24T01:33:59.805653Z",
     "start_time": "2024-04-24T01:33:59.775734Z"
    }
   },
   "outputs": [
    {
     "data": {
      "text/html": [
       "<div>\n",
       "<style scoped>\n",
       "    .dataframe tbody tr th:only-of-type {\n",
       "        vertical-align: middle;\n",
       "    }\n",
       "\n",
       "    .dataframe tbody tr th {\n",
       "        vertical-align: top;\n",
       "    }\n",
       "\n",
       "    .dataframe thead th {\n",
       "        text-align: right;\n",
       "    }\n",
       "</style>\n",
       "<table border=\"1\" class=\"dataframe\">\n",
       "  <thead>\n",
       "    <tr style=\"text-align: right;\">\n",
       "      <th></th>\n",
       "      <th>wmi</th>\n",
       "      <th>brake</th>\n",
       "      <th>model</th>\n",
       "      <th>engine</th>\n",
       "      <th>check</th>\n",
       "      <th>year</th>\n",
       "      <th>plant</th>\n",
       "      <th>vis</th>\n",
       "      <th>price</th>\n",
       "    </tr>\n",
       "  </thead>\n",
       "  <tbody>\n",
       "    <tr>\n",
       "      <th>0</th>\n",
       "      <td>2FM</td>\n",
       "      <td>D</td>\n",
       "      <td>K3J</td>\n",
       "      <td>C</td>\n",
       "      <td>4</td>\n",
       "      <td>B</td>\n",
       "      <td>B</td>\n",
       "      <td>A41556</td>\n",
       "      <td>12500</td>\n",
       "    </tr>\n",
       "    <tr>\n",
       "      <th>1</th>\n",
       "      <td>3FA</td>\n",
       "      <td>6</td>\n",
       "      <td>P0H</td>\n",
       "      <td>7</td>\n",
       "      <td>5</td>\n",
       "      <td>E</td>\n",
       "      <td>R</td>\n",
       "      <td>208976</td>\n",
       "      <td>14500</td>\n",
       "    </tr>\n",
       "    <tr>\n",
       "      <th>2</th>\n",
       "      <td>3FA</td>\n",
       "      <td>H</td>\n",
       "      <td>P08</td>\n",
       "      <td>Z</td>\n",
       "      <td>1</td>\n",
       "      <td>7</td>\n",
       "      <td>R</td>\n",
       "      <td>268380</td>\n",
       "      <td>1300</td>\n",
       "    </tr>\n",
       "    <tr>\n",
       "      <th>3</th>\n",
       "      <td>1FM</td>\n",
       "      <td>C</td>\n",
       "      <td>U0G</td>\n",
       "      <td>X</td>\n",
       "      <td>3</td>\n",
       "      <td>D</td>\n",
       "      <td>U</td>\n",
       "      <td>C59421</td>\n",
       "      <td>15200</td>\n",
       "    </tr>\n",
       "    <tr>\n",
       "      <th>4</th>\n",
       "      <td>1FA</td>\n",
       "      <td>H</td>\n",
       "      <td>P2E</td>\n",
       "      <td>8</td>\n",
       "      <td>9</td>\n",
       "      <td>D</td>\n",
       "      <td>G</td>\n",
       "      <td>119368</td>\n",
       "      <td>11600</td>\n",
       "    </tr>\n",
       "  </tbody>\n",
       "</table>\n",
       "</div>"
      ],
      "text/plain": [
       "   wmi brake model engine check year plant     vis  price\n",
       "0  2FM     D   K3J      C     4    B     B  A41556  12500\n",
       "1  3FA     6   P0H      7     5    E     R  208976  14500\n",
       "2  3FA     H   P08      Z     1    7     R  268380   1300\n",
       "3  1FM     C   U0G      X     3    D     U  C59421  15200\n",
       "4  1FA     H   P2E      8     9    D     G  119368  11600"
      ]
     },
     "execution_count": 10,
     "metadata": {},
     "output_type": "execute_result"
    }
   ],
   "source": [
    "data.head()"
   ]
  },
  {
   "cell_type": "code",
   "execution_count": 11,
   "id": "0dec24a8",
   "metadata": {
    "ExecuteTime": {
     "end_time": "2024-04-24T01:33:59.917180Z",
     "start_time": "2024-04-24T01:33:59.808628Z"
    }
   },
   "outputs": [
    {
     "name": "stdout",
     "output_type": "stream",
     "text": [
      "<class 'pandas.core.frame.DataFrame'>\n",
      "RangeIndex: 71884 entries, 0 to 71883\n",
      "Data columns (total 9 columns):\n",
      " #   Column  Non-Null Count  Dtype \n",
      "---  ------  --------------  ----- \n",
      " 0   wmi     71884 non-null  object\n",
      " 1   brake   71884 non-null  object\n",
      " 2   model   71884 non-null  object\n",
      " 3   engine  71884 non-null  object\n",
      " 4   check   71884 non-null  object\n",
      " 5   year    71884 non-null  object\n",
      " 6   plant   71884 non-null  object\n",
      " 7   vis     71884 non-null  object\n",
      " 8   price   71884 non-null  object\n",
      "dtypes: object(9)\n",
      "memory usage: 4.9+ MB\n"
     ]
    }
   ],
   "source": [
    "data.info()"
   ]
  },
  {
   "cell_type": "markdown",
   "id": "7097e84b",
   "metadata": {},
   "source": [
    "Датасет содержит 71884 строки и 9 столбцов. Пропуски отсутствуют. Численный целевой признак имеет некорректный тип данных object"
   ]
  },
  {
   "cell_type": "markdown",
   "id": "f2e7d149",
   "metadata": {},
   "source": [
    "## Предобработка"
   ]
  },
  {
   "cell_type": "markdown",
   "id": "f4a2732d",
   "metadata": {},
   "source": [
    "Преобразуем тип данных таргета object в целочисленные значения"
   ]
  },
  {
   "cell_type": "code",
   "execution_count": 12,
   "id": "db206c15",
   "metadata": {
    "ExecuteTime": {
     "end_time": "2024-04-24T01:33:59.978540Z",
     "start_time": "2024-04-24T01:33:59.924187Z"
    }
   },
   "outputs": [],
   "source": [
    "data['price'] = data['price'].astype('int')"
   ]
  },
  {
   "cell_type": "markdown",
   "id": "7c469f00",
   "metadata": {},
   "source": [
    "Выведем описательную статистику"
   ]
  },
  {
   "cell_type": "code",
   "execution_count": 13,
   "id": "edaa601e",
   "metadata": {
    "ExecuteTime": {
     "end_time": "2024-04-24T01:34:00.165708Z",
     "start_time": "2024-04-24T01:33:59.982658Z"
    }
   },
   "outputs": [
    {
     "data": {
      "text/html": [
       "<div>\n",
       "<style scoped>\n",
       "    .dataframe tbody tr th:only-of-type {\n",
       "        vertical-align: middle;\n",
       "    }\n",
       "\n",
       "    .dataframe tbody tr th {\n",
       "        vertical-align: top;\n",
       "    }\n",
       "\n",
       "    .dataframe thead th {\n",
       "        text-align: right;\n",
       "    }\n",
       "</style>\n",
       "<table border=\"1\" class=\"dataframe\">\n",
       "  <thead>\n",
       "    <tr style=\"text-align: right;\">\n",
       "      <th></th>\n",
       "      <th>wmi</th>\n",
       "      <th>brake</th>\n",
       "      <th>model</th>\n",
       "      <th>engine</th>\n",
       "      <th>check</th>\n",
       "      <th>year</th>\n",
       "      <th>plant</th>\n",
       "      <th>vis</th>\n",
       "      <th>price</th>\n",
       "    </tr>\n",
       "  </thead>\n",
       "  <tbody>\n",
       "    <tr>\n",
       "      <th>count</th>\n",
       "      <td>71884</td>\n",
       "      <td>71884</td>\n",
       "      <td>71884</td>\n",
       "      <td>71884</td>\n",
       "      <td>71884</td>\n",
       "      <td>71884</td>\n",
       "      <td>71884</td>\n",
       "      <td>71884</td>\n",
       "      <td>71884.0</td>\n",
       "    </tr>\n",
       "    <tr>\n",
       "      <th>unique</th>\n",
       "      <td>14</td>\n",
       "      <td>26</td>\n",
       "      <td>365</td>\n",
       "      <td>32</td>\n",
       "      <td>11</td>\n",
       "      <td>25</td>\n",
       "      <td>21</td>\n",
       "      <td>68215</td>\n",
       "      <td>-</td>\n",
       "    </tr>\n",
       "    <tr>\n",
       "      <th>top</th>\n",
       "      <td>1FM</td>\n",
       "      <td>D</td>\n",
       "      <td>P0H</td>\n",
       "      <td>2</td>\n",
       "      <td>1</td>\n",
       "      <td>D</td>\n",
       "      <td>R</td>\n",
       "      <td>B55197</td>\n",
       "      <td>-</td>\n",
       "    </tr>\n",
       "    <tr>\n",
       "      <th>freq</th>\n",
       "      <td>18347</td>\n",
       "      <td>12370</td>\n",
       "      <td>6171</td>\n",
       "      <td>7015</td>\n",
       "      <td>6622</td>\n",
       "      <td>17286</td>\n",
       "      <td>10535</td>\n",
       "      <td>4</td>\n",
       "      <td>-</td>\n",
       "    </tr>\n",
       "    <tr>\n",
       "      <th>mean</th>\n",
       "      <td>-</td>\n",
       "      <td>-</td>\n",
       "      <td>-</td>\n",
       "      <td>-</td>\n",
       "      <td>-</td>\n",
       "      <td>-</td>\n",
       "      <td>-</td>\n",
       "      <td>-</td>\n",
       "      <td>14321.45</td>\n",
       "    </tr>\n",
       "    <tr>\n",
       "      <th>std</th>\n",
       "      <td>-</td>\n",
       "      <td>-</td>\n",
       "      <td>-</td>\n",
       "      <td>-</td>\n",
       "      <td>-</td>\n",
       "      <td>-</td>\n",
       "      <td>-</td>\n",
       "      <td>-</td>\n",
       "      <td>7827.06</td>\n",
       "    </tr>\n",
       "    <tr>\n",
       "      <th>min</th>\n",
       "      <td>-</td>\n",
       "      <td>-</td>\n",
       "      <td>-</td>\n",
       "      <td>-</td>\n",
       "      <td>-</td>\n",
       "      <td>-</td>\n",
       "      <td>-</td>\n",
       "      <td>-</td>\n",
       "      <td>1000.0</td>\n",
       "    </tr>\n",
       "    <tr>\n",
       "      <th>25%</th>\n",
       "      <td>-</td>\n",
       "      <td>-</td>\n",
       "      <td>-</td>\n",
       "      <td>-</td>\n",
       "      <td>-</td>\n",
       "      <td>-</td>\n",
       "      <td>-</td>\n",
       "      <td>-</td>\n",
       "      <td>8800.0</td>\n",
       "    </tr>\n",
       "    <tr>\n",
       "      <th>50%</th>\n",
       "      <td>-</td>\n",
       "      <td>-</td>\n",
       "      <td>-</td>\n",
       "      <td>-</td>\n",
       "      <td>-</td>\n",
       "      <td>-</td>\n",
       "      <td>-</td>\n",
       "      <td>-</td>\n",
       "      <td>13500.0</td>\n",
       "    </tr>\n",
       "    <tr>\n",
       "      <th>75%</th>\n",
       "      <td>-</td>\n",
       "      <td>-</td>\n",
       "      <td>-</td>\n",
       "      <td>-</td>\n",
       "      <td>-</td>\n",
       "      <td>-</td>\n",
       "      <td>-</td>\n",
       "      <td>-</td>\n",
       "      <td>19500.0</td>\n",
       "    </tr>\n",
       "    <tr>\n",
       "      <th>max</th>\n",
       "      <td>-</td>\n",
       "      <td>-</td>\n",
       "      <td>-</td>\n",
       "      <td>-</td>\n",
       "      <td>-</td>\n",
       "      <td>-</td>\n",
       "      <td>-</td>\n",
       "      <td>-</td>\n",
       "      <td>36500.0</td>\n",
       "    </tr>\n",
       "  </tbody>\n",
       "</table>\n",
       "</div>"
      ],
      "text/plain": [
       "          wmi  brake  model engine  check   year  plant     vis     price\n",
       "count   71884  71884  71884  71884  71884  71884  71884   71884   71884.0\n",
       "unique     14     26    365     32     11     25     21   68215         -\n",
       "top       1FM      D    P0H      2      1      D      R  B55197         -\n",
       "freq    18347  12370   6171   7015   6622  17286  10535       4         -\n",
       "mean        -      -      -      -      -      -      -       -  14321.45\n",
       "std         -      -      -      -      -      -      -       -   7827.06\n",
       "min         -      -      -      -      -      -      -       -    1000.0\n",
       "25%         -      -      -      -      -      -      -       -    8800.0\n",
       "50%         -      -      -      -      -      -      -       -   13500.0\n",
       "75%         -      -      -      -      -      -      -       -   19500.0\n",
       "max         -      -      -      -      -      -      -       -   36500.0"
      ]
     },
     "execution_count": 13,
     "metadata": {},
     "output_type": "execute_result"
    }
   ],
   "source": [
    "data.describe(include='all').round(2).fillna('-')"
   ]
  },
  {
   "cell_type": "code",
   "execution_count": 14,
   "id": "66b85ae5",
   "metadata": {
    "ExecuteTime": {
     "end_time": "2024-04-24T01:34:00.684686Z",
     "start_time": "2024-04-24T01:34:00.167709Z"
    },
    "scrolled": false
   },
   "outputs": [
    {
     "data": {
      "image/png": "[encoded data removed]",
      "text/plain": [
       "<Figure size 1440x360 with 1 Axes>"
      ]
     },
     "metadata": {
      "needs_background": "light"
     },
     "output_type": "display_data"
    }
   ],
   "source": [
    "plt.figure(figsize=(20,5))\n",
    "sns.histplot(data, palette='hsv', legend=False)\n",
    "plt.title('Распределение стоимости автомобилей марки Ford', fontsize=16)\n",
    "plt.xlabel('Стоимость', fontsize=14)\n",
    "plt.ylabel('Количество', fontsize=14)\n",
    "plt.xticks(fontsize=12)\n",
    "plt.yticks(fontsize=12);"
   ]
  },
  {
   "cell_type": "code",
   "execution_count": 15,
   "id": "d68a4434",
   "metadata": {
    "ExecuteTime": {
     "end_time": "2024-04-24T01:34:00.858424Z",
     "start_time": "2024-04-24T01:34:00.686947Z"
    }
   },
   "outputs": [
    {
     "data": {
      "image/png": "[encoded data removed]",
      "text/plain": [
       "<Figure size 1440x360 with 1 Axes>"
      ]
     },
     "metadata": {
      "needs_background": "light"
     },
     "output_type": "display_data"
    }
   ],
   "source": [
    "plt.figure(figsize=(20,5))\n",
    "sns.boxplot(x=data['price'], palette='hsv', medianprops={'color': 'cyan', 'linewidth':3})\n",
    "plt.title('Статистики стоимости автомобилей марки Ford', fontsize=16)\n",
    "plt.xlabel('Стоимость', fontsize=14)\n",
    "plt.xticks(fontsize=12)\n",
    "plt.yticks(fontsize=12);"
   ]
  },
  {
   "cell_type": "markdown",
   "id": "5b156486",
   "metadata": {},
   "source": [
    "Проверим датасет на наличие явных дубликатов"
   ]
  },
  {
   "cell_type": "code",
   "execution_count": 16,
   "id": "d357293e",
   "metadata": {
    "ExecuteTime": {
     "end_time": "2024-04-24T01:34:00.951936Z",
     "start_time": "2024-04-24T01:34:00.861326Z"
    }
   },
   "outputs": [
    {
     "data": {
      "text/plain": [
       "0"
      ]
     },
     "execution_count": 16,
     "metadata": {},
     "output_type": "execute_result"
    }
   ],
   "source": [
    "data.duplicated().sum()"
   ]
  },
  {
   "cell_type": "markdown",
   "id": "7138d106",
   "metadata": {
    "ExecuteTime": {
     "end_time": "2024-04-23T16:49:30.593692Z",
     "start_time": "2024-04-23T16:49:30.579582Z"
    }
   },
   "source": [
    "Удалим неинформативный столбец vis с серийный номер и посмотрим на корреляцию оставшихся признаков"
   ]
  },
  {
   "cell_type": "code",
   "execution_count": 17,
   "id": "aacf191a",
   "metadata": {
    "ExecuteTime": {
     "end_time": "2024-04-24T01:34:00.983246Z",
     "start_time": "2024-04-24T01:34:00.954946Z"
    }
   },
   "outputs": [],
   "source": [
    "data.drop('vis', axis=1, inplace=True)"
   ]
  },
  {
   "cell_type": "code",
   "execution_count": 18,
   "id": "5cc5997f",
   "metadata": {
    "ExecuteTime": {
     "end_time": "2024-04-24T01:34:06.521489Z",
     "start_time": "2024-04-24T01:34:00.985246Z"
    }
   },
   "outputs": [
    {
     "data": {
      "image/png": "[encoded data removed]",
      "text/plain": [
       "<Figure size 1440x576 with 2 Axes>"
      ]
     },
     "metadata": {
      "needs_background": "light"
     },
     "output_type": "display_data"
    }
   ],
   "source": [
    "phik_overview = data.phik_matrix(interval_cols=['price'])\n",
    "plot_correlation_matrix(phik_overview.values, x_labels=phik_overview.columns, y_labels=phik_overview.index,\n",
    "                        title=r'correlation $\\phi_K$', figsize=(20,8), fontsize_factor=1.5, color_map='cool')"
   ]
  },
  {
   "cell_type": "markdown",
   "id": "a1b9dc31",
   "metadata": {},
   "source": [
    "Удалим неинформативный столбец check - контрольный, который согласно матрице имеет нулевую корреляцию с таргетом"
   ]
  },
  {
   "cell_type": "code",
   "execution_count": 19,
   "id": "86d14c6d",
   "metadata": {
    "ExecuteTime": {
     "end_time": "2024-04-24T01:34:06.553150Z",
     "start_time": "2024-04-24T01:34:06.523407Z"
    }
   },
   "outputs": [],
   "source": [
    "data.drop('check', axis=1, inplace=True)"
   ]
  },
  {
   "cell_type": "markdown",
   "id": "7cd6d30c",
   "metadata": {},
   "source": [
    "Поскольку не предполагаем использовать линейные модели, нет необходимости в избавлении от мультиколлинеарных признаков"
   ]
  },
  {
   "cell_type": "markdown",
   "id": "d4e1cc27",
   "metadata": {},
   "source": [
    "## Построение моделей"
   ]
  },
  {
   "cell_type": "code",
   "execution_count": 20,
   "id": "604cef75",
   "metadata": {
    "ExecuteTime": {
     "end_time": "2024-04-24T01:34:06.584813Z",
     "start_time": "2024-04-24T01:34:06.563161Z"
    }
   },
   "outputs": [],
   "source": [
    "features = data.drop('price', axis=1)\n",
    "target = data.price"
   ]
  },
  {
   "cell_type": "code",
   "execution_count": 21,
   "id": "9f2a7ed2",
   "metadata": {
    "ExecuteTime": {
     "end_time": "2024-04-24T01:34:06.647069Z",
     "start_time": "2024-04-24T01:34:06.587812Z"
    }
   },
   "outputs": [],
   "source": [
    "features_train, features_test, target_train, target_test = train_test_split(\n",
    "    features, target, test_size=0.25, random_state=RANDOM_STATE)"
   ]
  },
  {
   "cell_type": "code",
   "execution_count": 22,
   "id": "456ade5e",
   "metadata": {
    "ExecuteTime": {
     "end_time": "2024-04-24T01:34:06.662364Z",
     "start_time": "2024-04-24T01:34:06.649066Z"
    }
   },
   "outputs": [
    {
     "name": "stdout",
     "output_type": "stream",
     "text": [
      "Размер обучающей выборки: признаки - (53913, 6), целевая переменная - 53913\n",
      "Размер тестовой выборки: признаки - (17971, 6), целевая переменная - 17971\n"
     ]
    }
   ],
   "source": [
    "# Выведем размеры обучающей и тестовой выборок\n",
    "\n",
    "print(f'Размер обучающей выборки: признаки - {features_train.shape}, целевая переменная - {target_train.shape[0]}')\n",
    "print(f'Размер тестовой выборки: признаки - {features_test.shape}, целевая переменная - {target_test.shape[0]}')"
   ]
  },
  {
   "cell_type": "markdown",
   "id": "da297ef2",
   "metadata": {},
   "source": [
    "### RandomForestRegressor"
   ]
  },
  {
   "cell_type": "markdown",
   "id": "cd5d591b",
   "metadata": {},
   "source": [
    "#### Обучение"
   ]
  },
  {
   "cell_type": "markdown",
   "id": "91e385f5",
   "metadata": {},
   "source": [
    "Используем пайплайн с целью избежания утечки данных и RandomizedSearchCV для быстрого подбора гиперпараметров при помощи кросс-валидации.\n",
    "Для моделей на основе деревьев решений можно использовать порядковое кодирование категориальных переменных. Это поможет сократить время обучения и подбора параметров модели без явной потери качества."
   ]
  },
  {
   "cell_type": "code",
   "execution_count": 23,
   "id": "395733aa",
   "metadata": {
    "ExecuteTime": {
     "end_time": "2024-04-24T01:34:06.677938Z",
     "start_time": "2024-04-24T01:34:06.667529Z"
    }
   },
   "outputs": [],
   "source": [
    "pipe = Pipeline([\n",
    "    ('ordinal_encoder', OrdinalEncoder(handle_unknown='use_encoded_value', unknown_value=-1)),\n",
    "    ('rfr', RandomForestRegressor(random_state=RANDOM_STATE))\n",
    "])\n",
    "\n",
    "param_random_rfr = {\n",
    "    'rfr__bootstrap': [True, False],\n",
    "    'rfr__n_estimators': range(10, 101, 10),\n",
    "    'rfr__max_depth': range(2, 15),\n",
    "    'rfr__min_samples_split': (2, 3, 4),\n",
    "    'rfr__min_samples_leaf': (1, 2, 3, 4)\n",
    "}\n",
    "\n",
    "rs_rfr = RandomizedSearchCV(\n",
    "    pipe,\n",
    "    param_distributions=param_random_rfr, \n",
    "    scoring={'RMSE': 'neg_root_mean_squared_error', 'MAPE': 'neg_mean_absolute_percentage_error', \n",
    "             'MSE': 'neg_mean_squared_error'},\n",
    "    refit='RMSE',  \n",
    "    cv=5,\n",
    "    n_iter=25,\n",
    "    n_jobs=-1\n",
    ")"
   ]
  },
  {
   "cell_type": "code",
   "execution_count": 24,
   "id": "d6b551be",
   "metadata": {
    "ExecuteTime": {
     "end_time": "2024-04-24T01:35:11.046596Z",
     "start_time": "2024-04-24T01:34:06.679939Z"
    }
   },
   "outputs": [
    {
     "name": "stdout",
     "output_type": "stream",
     "text": [
      "Метрика RMSE: 2800.35\n",
      "Метрика MSE: 15143990.64\n",
      "Метрика MAPE: 0.31\n",
      "Лучшие параметры: {'rfr__n_estimators': 50, 'rfr__min_samples_split': 4, 'rfr__min_samples_leaf': 4, 'rfr__max_depth': 14, 'rfr__bootstrap': True}\n",
      "CPU times: total: 8.64 s\n",
      "Wall time: 1min 4s\n"
     ]
    }
   ],
   "source": [
    "%%time\n",
    "rs_rfr.fit(features_train, target_train)\n",
    "print('Метрика RMSE:', abs(rs_rfr.best_score_).round(2))\n",
    "print('Метрика MSE:', abs(rs_rfr.cv_results_['mean_test_MSE']).mean().round(2))\n",
    "print('Метрика MAPE:', abs(rs_rfr.cv_results_['mean_test_MAPE']).mean().round(2))\n",
    "print('Лучшие параметры:', rs_rfr.best_params_)"
   ]
  },
  {
   "cell_type": "markdown",
   "id": "2d8498a0",
   "metadata": {},
   "source": [
    "#### Анализ важности фичей"
   ]
  },
  {
   "cell_type": "code",
   "execution_count": 25,
   "id": "b3bd9768",
   "metadata": {
    "ExecuteTime": {
     "end_time": "2024-04-24T01:35:20.393632Z",
     "start_time": "2024-04-24T01:35:11.050602Z"
    }
   },
   "outputs": [],
   "source": [
    "feature_names = features.columns\n",
    "result = permutation_importance(\n",
    "    rs_rfr, features_train, target_train, n_repeats=10, random_state=RANDOM_STATE, n_jobs=-1\n",
    ")\n",
    "forest_importances = pd.Series(result.importances_mean, index=feature_names)"
   ]
  },
  {
   "cell_type": "code",
   "execution_count": 26,
   "id": "4da45955",
   "metadata": {
    "ExecuteTime": {
     "end_time": "2024-04-24T01:35:20.676231Z",
     "start_time": "2024-04-24T01:35:20.395615Z"
    }
   },
   "outputs": [
    {
     "data": {
      "image/png": "[encoded data removed]",
      "text/plain": [
       "<Figure size 1440x432 with 1 Axes>"
      ]
     },
     "metadata": {
      "needs_background": "light"
     },
     "output_type": "display_data"
    }
   ],
   "source": [
    "forest_importances.plot.barh(xerr=result.importances_std, figsize=(20, 6), fontsize=13, cmap=plt.cm.cool)\n",
    "plt.title(\"Важность признака Permutation Importance (опеределяемая перетасовкой его значений)\", fontsize=16)\n",
    "plt.xlabel(\"Снижение средней точности\", fontsize=16);"
   ]
  },
  {
   "cell_type": "markdown",
   "id": "db1fc569",
   "metadata": {},
   "source": [
    "RandomForestRegressor с лучшими параметрами: {'rfr__n_estimators': 50, 'rfr__min_samples_split': 4, 'rfr__min_samples_leaf': 4, 'rfr__max_depth': 14, 'rfr__bootstrap': True}\n",
    "достигла метрики RMSE = __2800.35__. MSE и MAPE составили 15143990.64 и 0.31 соответственно.  \n",
    "Наиболее значимыми признаками для модели RandomForestRegressor являются `год выпуска`, `завод изготовления` и `модель автомобиля`"
   ]
  },
  {
   "cell_type": "markdown",
   "id": "26ecb565",
   "metadata": {},
   "source": [
    "### LGBMRegressor"
   ]
  },
  {
   "cell_type": "code",
   "execution_count": 27,
   "id": "1a959f6b",
   "metadata": {
    "ExecuteTime": {
     "end_time": "2024-04-24T01:35:20.800916Z",
     "start_time": "2024-04-24T01:35:20.680242Z"
    }
   },
   "outputs": [],
   "source": [
    "# Преобразуем тип данных object в category, используемый LightGBM \n",
    "\n",
    "cat_features = [features_train, features_test]\n",
    "\n",
    "for elem in cat_features:\n",
    "    for col in elem.columns:\n",
    "        col_type = elem[col].dtype\n",
    "        if col_type == 'object':\n",
    "            elem[col] = elem[col].astype('category')"
   ]
  },
  {
   "cell_type": "code",
   "execution_count": 28,
   "id": "a566f567",
   "metadata": {
    "ExecuteTime": {
     "end_time": "2024-04-24T01:35:20.833039Z",
     "start_time": "2024-04-24T01:35:20.802958Z"
    }
   },
   "outputs": [
    {
     "name": "stdout",
     "output_type": "stream",
     "text": [
      "<class 'pandas.core.frame.DataFrame'>\n",
      "Int64Index: 53913 entries, 51570 to 2177\n",
      "Data columns (total 6 columns):\n",
      " #   Column  Non-Null Count  Dtype   \n",
      "---  ------  --------------  -----   \n",
      " 0   wmi     53913 non-null  category\n",
      " 1   brake   53913 non-null  category\n",
      " 2   model   53913 non-null  category\n",
      " 3   engine  53913 non-null  category\n",
      " 4   year    53913 non-null  category\n",
      " 5   plant   53913 non-null  category\n",
      "dtypes: category(6)\n",
      "memory usage: 805.3 KB\n",
      "None\n",
      "<class 'pandas.core.frame.DataFrame'>\n",
      "Int64Index: 17971 entries, 63581 to 25330\n",
      "Data columns (total 6 columns):\n",
      " #   Column  Non-Null Count  Dtype   \n",
      "---  ------  --------------  -----   \n",
      " 0   wmi     17971 non-null  category\n",
      " 1   brake   17971 non-null  category\n",
      " 2   model   17971 non-null  category\n",
      " 3   engine  17971 non-null  category\n",
      " 4   year    17971 non-null  category\n",
      " 5   plant   17971 non-null  category\n",
      "dtypes: category(6)\n",
      "memory usage: 278.0 KB\n"
     ]
    }
   ],
   "source": [
    "print(cat_features[0].info())\n",
    "cat_features[1].info()"
   ]
  },
  {
   "cell_type": "markdown",
   "id": "8c3c30fb",
   "metadata": {},
   "source": [
    "#### Обучение"
   ]
  },
  {
   "cell_type": "code",
   "execution_count": 29,
   "id": "0af4ae96",
   "metadata": {
    "ExecuteTime": {
     "end_time": "2024-04-24T01:35:20.848482Z",
     "start_time": "2024-04-24T01:35:20.836041Z"
    }
   },
   "outputs": [],
   "source": [
    "model_lgbm = lgb.LGBMRegressor(random_state=RANDOM_STATE)\n",
    "\n",
    "param_random_lgbm = {\n",
    "    'n_estimators': range(50, 251, 50),\n",
    "    'max_depth': range(10, 100, 10),\n",
    "    'num_leaves': range(2, 250, 10),\n",
    "    'learning_rate': (0.1, 0.2, 0.3)\n",
    "}\n",
    "\n",
    "rs_lgbm = RandomizedSearchCV(\n",
    "    model_lgbm,\n",
    "    param_distributions=param_random_lgbm,\n",
    "    scoring={'RMSE': 'neg_root_mean_squared_error', 'MAPE': 'neg_mean_absolute_percentage_error',\n",
    "             'MSE': 'neg_mean_squared_error'},\n",
    "    refit='RMSE',\n",
    "    cv=4,\n",
    "    n_jobs=-1,\n",
    "    n_iter=25,\n",
    "    random_state=RANDOM_STATE\n",
    ")"
   ]
  },
  {
   "cell_type": "code",
   "execution_count": 30,
   "id": "675851de",
   "metadata": {
    "ExecuteTime": {
     "end_time": "2024-04-24T01:36:12.939169Z",
     "start_time": "2024-04-24T01:35:20.852476Z"
    }
   },
   "outputs": [
    {
     "name": "stdout",
     "output_type": "stream",
     "text": [
      "Метрика RMSE: 2767.59\n",
      "Метрика MSE: 7712875.38\n",
      "Метрика MAPE: 0.2\n",
      "Лучшие параметры: {'num_leaves': 32, 'n_estimators': 100, 'max_depth': 90, 'learning_rate': 0.2}\n",
      "CPU times: total: 2.38 s\n",
      "Wall time: 52.1 s\n"
     ]
    }
   ],
   "source": [
    "%%time\n",
    "rs_lgbm.fit(cat_features[0], target_train)\n",
    "print('Метрика RMSE:', abs(rs_lgbm.best_score_).round(2))\n",
    "print('Метрика MSE:', abs(rs_lgbm.cv_results_['mean_test_MSE']).mean().round(2))\n",
    "print('Метрика MAPE:', abs(rs_lgbm.cv_results_['mean_test_MAPE']).mean().round(2))\n",
    "print('Лучшие параметры:', rs_lgbm.best_params_)"
   ]
  },
  {
   "cell_type": "markdown",
   "id": "5b496d3a",
   "metadata": {},
   "source": [
    "#### Анализ важности фичей"
   ]
  },
  {
   "cell_type": "code",
   "execution_count": 31,
   "id": "4674f8da",
   "metadata": {
    "ExecuteTime": {
     "end_time": "2024-04-24T01:36:13.626777Z",
     "start_time": "2024-04-24T01:36:12.950168Z"
    },
    "scrolled": true
   },
   "outputs": [
    {
     "data": {
      "image/png": "[encoded data removed]",
      "text/plain": [
       "<Figure size 4000x1200 with 1 Axes>"
      ]
     },
     "metadata": {
      "needs_background": "light"
     },
     "output_type": "display_data"
    }
   ],
   "source": [
    "# Получаем обученную модель\n",
    "best_model_lgbm = rs_lgbm.best_estimator_\n",
    "\n",
    "# Строим график важности признаков\n",
    "lgb.plot_importance(best_model_lgbm, height=.6, title='Feature importance', xlabel='',\n",
    "                         ylabel='', figsize=(20, 6), color='cyan', dpi=200\n",
    "                         )\n",
    "plt.title(\"Важность признаков модели LGBMRegressor\", fontsize=16);"
   ]
  },
  {
   "cell_type": "markdown",
   "id": "7320c43e",
   "metadata": {},
   "source": [
    "LGBMRegressor с лучшими параметрами: {'num_leaves': 32, 'n_estimators': 100, 'max_depth': 90, 'learning_rate': 0.2} немного обошла RandomForestRegressor и достигла метрики RMSE = __2767.59__. По метрикам MSE и MAPE LGBMRegressor показала себя ещё выигрышнее, результаты составили 7712875.38 и 0.2 соответственно.\n",
    "Наиболее значимыми признаками для LGBMRegressor являются `модель автомобиля`, `год выпуска`, `двигатель`."
   ]
  },
  {
   "cell_type": "markdown",
   "id": "8234a6fb",
   "metadata": {},
   "source": [
    "### DummyRegressor"
   ]
  },
  {
   "cell_type": "code",
   "execution_count": 32,
   "id": "60d9d78d",
   "metadata": {
    "ExecuteTime": {
     "end_time": "2024-04-24T01:36:13.689922Z",
     "start_time": "2024-04-24T01:36:13.629787Z"
    }
   },
   "outputs": [
    {
     "name": "stdout",
     "output_type": "stream",
     "text": [
      "Метрика MSE константной модели: 61522678.55\n",
      "Метрика RMSE константной модели: 7843.55\n",
      "Метрика MAPE константной модели: 1.03\n"
     ]
    }
   ],
   "source": [
    "cv_dummy = cross_validate(DummyRegressor(), features_train, target_train, scoring=('neg_mean_squared_error',\n",
    "                                                                                   'neg_root_mean_squared_error',\n",
    "                                                                                   'neg_mean_absolute_percentage_error'))\n",
    "\n",
    "print('Метрика MSE константной модели:', abs(cv_dummy['test_neg_mean_squared_error']).mean().round(2))\n",
    "print('Метрика RMSE константной модели:', abs(cv_dummy['test_neg_root_mean_squared_error']).mean().round(2))\n",
    "print('Метрика MAPE константной модели:', abs(cv_dummy['test_neg_mean_absolute_percentage_error']).mean().round(2))"
   ]
  },
  {
   "cell_type": "markdown",
   "id": "b16ba42c",
   "metadata": {},
   "source": [
    "По всем параметрам DummyRegressor сильно уступает RandomForestRegressor и LGBMRegressor. Обе наши модели подтвердили адекватность"
   ]
  },
  {
   "cell_type": "markdown",
   "id": "a077f02e",
   "metadata": {},
   "source": [
    "## Проверка лучшей модели на тесте"
   ]
  },
  {
   "cell_type": "code",
   "execution_count": 33,
   "id": "f9a40851",
   "metadata": {
    "ExecuteTime": {
     "end_time": "2024-04-24T01:36:13.818014Z",
     "start_time": "2024-04-24T01:36:13.698926Z"
    }
   },
   "outputs": [
    {
     "name": "stdout",
     "output_type": "stream",
     "text": [
      "CPU times: total: 125 ms\n",
      "Wall time: 92.9 ms\n"
     ]
    }
   ],
   "source": [
    "%%time\n",
    "predicted_test = rs_lgbm.predict(cat_features[1])"
   ]
  },
  {
   "cell_type": "code",
   "execution_count": 34,
   "id": "a29113f1",
   "metadata": {
    "ExecuteTime": {
     "end_time": "2024-04-24T01:36:13.849479Z",
     "start_time": "2024-04-24T01:36:13.821016Z"
    }
   },
   "outputs": [
    {
     "name": "stdout",
     "output_type": "stream",
     "text": [
      "Метрика RMSE на тестовой выборке: 2756.46\n",
      "Метрика MSE на тестовой выборке: 7598078.62\n",
      "Метрика MAPE на тестовой выборке: 0.20\n"
     ]
    }
   ],
   "source": [
    "metric_test_rmse = mean_squared_error(target_test, predicted_test, squared=False)\n",
    "metric_test_mse = mean_squared_error(target_test, predicted_test)\n",
    "metric_test_mape = mean_absolute_percentage_error(target_test, predicted_test)\n",
    "print(f'Метрика RMSE на тестовой выборке: {metric_test_rmse:.2f}')\n",
    "print(f'Метрика MSE на тестовой выборке: {metric_test_mse:.2f}')\n",
    "print(f'Метрика MAPE на тестовой выборке: {metric_test_mape:.2f}')"
   ]
  },
  {
   "cell_type": "markdown",
   "id": "e5dda3da",
   "metadata": {},
   "source": [
    "## Вывод"
   ]
  },
  {
   "cell_type": "markdown",
   "id": "0f24a6b9",
   "metadata": {},
   "source": [
    "Нам были предоставлены данные по автомобилям Ford, произведённым в Северной Америке, содержащие информацию о их VIN-кодах и стоимости. С помощью регулярных выражений мы распарсили VIN-коды, сформировав из них признаки и составив датасет, а также построили модель, предсказывающую стоимость автомобилей на основании полученных данных.  \n",
    "На кросс-валидации мы определили метрики 3-х моделей RandomForestRegressor, LGBMRegressor, DummyRegressor с быстрым подбором гиперпараметров RandomizedSearchCV, применением порядкового кодирования категориальных переменных и использованием пайплайна, где это требуется. Провели сравнение с константной моделью, RandomForestRegressor и LGBMRegressor подтвердили адекватность.  \n",
    "Лучшей моделью стала __LGBMRegressor__ с параметрами: __{'num_leaves': 32, 'n_estimators': 100, 'max_depth': 90, 'learning_rate': 0.2}__  \n",
    "и результатами метрик:  \n",
    "- `RMSE` = `2767.59`,  \n",
    "- `MSE` = `7712875.38`,  \n",
    "- `MAPE` = `0.2`.  \n",
    "\n",
    "Анализ важности признаков определил, что наиболее значимыми для LGBMRegressor фичами являются: `модель автомобиля`, `год выпуска`, `двигатель`."
   ]
  }
 ],
 "metadata": {
  "kernelspec": {
   "display_name": "Python 3 (ipykernel)",
   "language": "python",
   "name": "python3"
  },
  "language_info": {
   "codemirror_mode": {
    "name": "ipython",
    "version": 3
   },
   "file_extension": ".py",
   "mimetype": "text/x-python",
   "name": "python",
   "nbconvert_exporter": "python",
   "pygments_lexer": "ipython3",
   "version": "3.9.12"
  },
  "toc": {
   "base_numbering": "1",
   "nav_menu": {},
   "number_sections": false,
   "sideBar": true,
   "skip_h1_title": true,
   "title_cell": "Этапы исследования:",
   "title_sidebar": "Contents",
   "toc_cell": true,
   "toc_position": {
    "height": "calc(100% - 180px)",
    "left": "10px",
    "top": "150px",
    "width": "320px"
   },
   "toc_section_display": true,
   "toc_window_display": true
  },
  "varInspector": {
   "cols": {
    "lenName": 16,
    "lenType": 16,
    "lenVar": 40
   },
   "kernels_config": {
    "python": {
     "delete_cmd_postfix": "",
     "delete_cmd_prefix": "del ",
     "library": "var_list.py",
     "varRefreshCmd": "print(var_dic_list())"
    },
    "r": {
     "delete_cmd_postfix": ") ",
     "delete_cmd_prefix": "rm(",
     "library": "var_list.r",
     "varRefreshCmd": "cat(var_dic_list()) "
    }
   },
   "types_to_exclude": [
    "module",
    "function",
    "builtin_function_or_method",
    "instance",
    "_Feature"
   ],
   "window_display": false
  }
 },
 "nbformat": 4,
 "nbformat_minor": 5
}
